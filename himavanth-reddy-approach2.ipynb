{
 "cells": [
  {
   "cell_type": "code",
   "execution_count": 1,
   "id": "historic-happiness",
   "metadata": {
    "_cell_guid": "b1076dfc-b9ad-4769-8c92-a6c4dae69d19",
    "_uuid": "8f2839f25d086af736a60e9eeb907d3b93b6e0e5",
    "execution": {
     "iopub.execute_input": "2021-04-21T06:54:34.733970Z",
     "iopub.status.busy": "2021-04-21T06:54:34.733244Z",
     "iopub.status.idle": "2021-04-21T06:55:09.555331Z",
     "shell.execute_reply": "2021-04-21T06:55:09.554553Z"
    },
    "papermill": {
     "duration": 34.841075,
     "end_time": "2021-04-21T06:55:09.555504",
     "exception": false,
     "start_time": "2021-04-21T06:54:34.714429",
     "status": "completed"
    },
    "tags": []
   },
   "outputs": [
    {
     "name": "stdout",
     "output_type": "stream",
     "text": [
      "/kaggle/input/hackathon2021/sample_submission.csv\n",
      "/kaggle/input/hackathon2021/train.csv/train.csv\n",
      "/kaggle/input/hackathon2021/test.csv/test.csv\n",
      "Epoch 1/8\n",
      "1313/1313 [==============================] - 3s 2ms/step - loss: 0.5996 - accuracy: 0.8463\n",
      "Epoch 2/8\n",
      "1313/1313 [==============================] - 2s 2ms/step - loss: 0.1832 - accuracy: 0.9463\n",
      "Epoch 3/8\n",
      "1313/1313 [==============================] - 2s 2ms/step - loss: 0.1243 - accuracy: 0.9644\n",
      "Epoch 4/8\n",
      "1313/1313 [==============================] - 2s 2ms/step - loss: 0.0882 - accuracy: 0.9750\n",
      "Epoch 5/8\n",
      "1313/1313 [==============================] - 2s 2ms/step - loss: 0.0686 - accuracy: 0.9806\n",
      "Epoch 6/8\n",
      "1313/1313 [==============================] - 2s 2ms/step - loss: 0.0494 - accuracy: 0.9854\n",
      "Epoch 7/8\n",
      "1313/1313 [==============================] - 3s 2ms/step - loss: 0.0389 - accuracy: 0.9897\n",
      "Epoch 8/8\n",
      "1313/1313 [==============================] - 2s 2ms/step - loss: 0.0324 - accuracy: 0.9916\n",
      "       ImageID  Label\n",
      "0            1      2\n",
      "1            2      0\n",
      "2            3      9\n",
      "3            4      9\n",
      "4            5      3\n",
      "...        ...    ...\n",
      "27995    27996      9\n",
      "27996    27997      7\n",
      "27997    27998      3\n",
      "27998    27999      9\n",
      "27999    28000      2\n",
      "\n",
      "[28000 rows x 2 columns]\n",
      "2\n"
     ]
    },
    {
     "data": {
      "image/png": "[encoded data removed]",
      "text/plain": [
       "<Figure size 432x288 with 1 Axes>"
      ]
     },
     "metadata": {
      "needs_background": "light"
     },
     "output_type": "display_data"
    }
   ],
   "source": [
    "# This Python 3 environment comes with many helpful analytics libraries installed\n",
    "# It is defined by the kaggle/python Docker image: https://github.com/kaggle/docker-python\n",
    "# For example, here's several helpful packages to load\n",
    "\n",
    "import numpy as np # linear algebra\n",
    "import pandas as pd # data processing, CSV file I/O (e.g. pd.read_csv)\n",
    "import tensorflow as tf\n",
    "from matplotlib import pyplot as plt\n",
    "from tensorflow.keras.utils import normalize\n",
    "# Input data files are available in the read-only \"../input/\" directory\n",
    "# For example, running this (by clicking run or pressing Shift+Enter) will list all files under the input directory\n",
    "\n",
    "import os\n",
    "for dirname, _, filenames in os.walk('/kaggle/input'):\n",
    "    for filename in filenames:\n",
    "        print(os.path.join(dirname, filename))\n",
    "#reading the train.csv and test.csv files     \n",
    "trainset=pd.read_csv('/kaggle/input/hackathon2021/train.csv/train.csv')\n",
    "testset=pd.read_csv('/kaggle/input/hackathon2021/test.csv/test.csv')\n",
    "#extracting 'label' from train.csv i.e.., trainset\n",
    "trainlabel=trainset['label'].copy()\n",
    "#deleting 'label' from train.csv i.e.., trainset\n",
    "trainset.drop(['label'],axis=1,inplace=True)\n",
    "#converting dataframes of trainset into arrays using numpy\n",
    "trainset=np.array(trainset)\n",
    "#reshaping the trainset from(42000,784) to (42000,28,28)\n",
    "trainset=trainset.reshape(42000,28,28)\n",
    "#converting dataframes of testset into arrays using numpy\n",
    "testset=np.array(testset)\n",
    "#reshaping testset from (28000,784) to (28000,28,28)\n",
    "testset=testset.reshape(28000,28,28)\n",
    "#normalizing the training and testing sets using an inbuilt method \"normalize()\" without actually dividing by 255.0\n",
    "trainset=normalize(trainset,axis=1)\n",
    "testset=normalize(testset,axis=1)\n",
    "\n",
    "\n",
    "#Building the model\n",
    "model=tf.keras.models.Sequential([tf.keras.layers.Flatten(input_shape=(28,28)),\n",
    "                                tf.keras.layers.Dense(128,activation=\"relu\"),\n",
    "                                tf.keras.layers.Dense(10,activation=tf.nn.softmax)])\n",
    "\n",
    "\n",
    "#compiling the model\n",
    "model.compile(optimizer=tf.optimizers.Adam(),\n",
    "             loss='sparse_categorical_crossentropy',\n",
    "             metrics=['accuracy'])\n",
    "\n",
    "#training the model\n",
    "model.fit(trainset,trainlabel,epochs=8,batch_size=32)\n",
    "\n",
    "\n",
    "\n",
    "prediction=model.predict(testset)\n",
    "\n",
    "\n",
    "#generating a submission file containing IMAGEID and LABEL\n",
    "final=prediction.argmax(axis=-1)\n",
    "sub_file=pd.DataFrame()\n",
    "sub_file['ImageID']=list(range(1,28001))\n",
    "sub_file['Label']=final\n",
    "#displaying the submission file\n",
    "print(sub_file)\n",
    "#converting the submission file into csv\n",
    "sub_file.to_csv(\"output_file.csv\",index=False)\n",
    "#testing the model with a sample test input\n",
    "plt.imshow(testset[0])\n",
    "print(np.argmax(prediction[0]))\n",
    "\n",
    "# You can write up to 20GB to the current directory (/kaggle/working/) that gets preserved as output when you create a version using \"Save & Run All\" \n",
    "# You can also write temporary files to /kaggle/temp/, but they won't be saved outside of the current session"
   ]
  },
  {
   "cell_type": "code",
   "execution_count": null,
   "id": "spread-license",
   "metadata": {
    "papermill": {
     "duration": 0.122176,
     "end_time": "2021-04-21T06:55:09.799373",
     "exception": false,
     "start_time": "2021-04-21T06:55:09.677197",
     "status": "completed"
    },
    "tags": []
   },
   "outputs": [],
   "source": []
  }
 ],
 "metadata": {
  "kernelspec": {
   "display_name": "Python 3",
   "language": "python",
   "name": "python3"
  },
  "language_info": {
   "codemirror_mode": {
    "name": "ipython",
    "version": 3
   },
   "file_extension": ".py",
   "mimetype": "text/x-python",
   "name": "python",
   "nbconvert_exporter": "python",
   "pygments_lexer": "ipython3",
   "version": "3.7.9"
  },
  "papermill": {
   "default_parameters": {},
   "duration": 42.769425,
   "end_time": "2021-04-21T06:55:11.038458",
   "environment_variables": {},
   "exception": null,
   "input_path": "__notebook__.ipynb",
   "output_path": "__notebook__.ipynb",
   "parameters": {},
   "start_time": "2021-04-21T06:54:28.269033",
   "version": "2.3.2"
  }
 },
 "nbformat": 4,
 "nbformat_minor": 5
}
