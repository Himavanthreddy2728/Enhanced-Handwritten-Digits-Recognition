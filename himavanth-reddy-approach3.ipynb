{
 "cells": [
  {
   "cell_type": "code",
   "execution_count": 1,
   "id": "conditional-disney",
   "metadata": {
    "_cell_guid": "b1076dfc-b9ad-4769-8c92-a6c4dae69d19",
    "_uuid": "8f2839f25d086af736a60e9eeb907d3b93b6e0e5",
    "execution": {
     "iopub.execute_input": "2021-04-21T17:23:43.715553Z",
     "iopub.status.busy": "2021-04-21T17:23:43.714272Z",
     "iopub.status.idle": "2021-04-21T17:25:01.296848Z",
     "shell.execute_reply": "2021-04-21T17:25:01.297303Z"
    },
    "papermill": {
     "duration": 77.592005,
     "end_time": "2021-04-21T17:25:01.297623",
     "exception": false,
     "start_time": "2021-04-21T17:23:43.705618",
     "status": "completed"
    },
    "tags": []
   },
   "outputs": [
    {
     "name": "stdout",
     "output_type": "stream",
     "text": [
      "/kaggle/input/hackathon2021/sample_submission.csv\n",
      "/kaggle/input/hackathon2021/train.csv/train.csv\n",
      "/kaggle/input/hackathon2021/test.csv/test.csv\n",
      "Epoch 1/5\n",
      "1313/1313 [==============================] - 13s 10ms/step - loss: 0.4562 - accuracy: 0.8723\n",
      "Epoch 2/5\n",
      "1313/1313 [==============================] - 13s 10ms/step - loss: 0.1168 - accuracy: 0.9655\n",
      "Epoch 3/5\n",
      "1313/1313 [==============================] - 13s 10ms/step - loss: 0.0719 - accuracy: 0.9777\n",
      "Epoch 4/5\n",
      "1313/1313 [==============================] - 13s 10ms/step - loss: 0.0548 - accuracy: 0.9820\n",
      "Epoch 5/5\n",
      "1313/1313 [==============================] - 13s 10ms/step - loss: 0.0383 - accuracy: 0.9882\n"
     ]
    },
    {
     "data": {
      "text/plain": [
       "<tensorflow.python.keras.callbacks.History at 0x7fc477911350>"
      ]
     },
     "execution_count": 1,
     "metadata": {},
     "output_type": "execute_result"
    }
   ],
   "source": [
    "# This Python 3 environment comes with many helpful analytics libraries installed\n",
    "# It is defined by the kaggle/python Docker image: https://github.com/kaggle/docker-python\n",
    "# For example, here's several helpful packages to load\n",
    "\n",
    "import numpy as np # linear algebra\n",
    "import pandas as pd # data processing, CSV file I/O (e.g. pd.read_csv)\n",
    "import tensorflow as tf\n",
    "\n",
    "from tensorflow import keras\n",
    "from tensorflow.keras.utils import normalize\n",
    "from tensorflow.keras.models import Sequential\n",
    "from tensorflow.keras.layers import Dense,Dropout,Activation,Flatten,Conv2D,MaxPooling2D\n",
    "\n",
    "from matplotlib import pyplot as plt\n",
    "\n",
    "\n",
    "# Input data files are available in the read-only \"../input/\" directory\n",
    "# For example, running this (by clicking run or pressing Shift+Enter) will list all files under the input directory\n",
    "\n",
    "import os\n",
    "for dirname, _, filenames in os.walk('/kaggle/input'):\n",
    "    for filename in filenames:\n",
    "        print(os.path.join(dirname, filename))\n",
    "trainset=pd.read_csv('/kaggle/input/hackathon2021/train.csv/train.csv')\n",
    "testset=pd.read_csv('/kaggle/input/hackathon2021/test.csv/test.csv')\n",
    "#extracting 'label' from train.csv i.e.., trainset\n",
    "trainlabel=trainset['label'].copy()\n",
    "#deleting 'label' from train.csv i.e.., trainset\n",
    "trainset.drop(['label'],axis=1,inplace=True)\n",
    "#converting dataframes of trainset into arrays using numpy\n",
    "trainset=np.array(trainset)\n",
    "#reshaping the trainset from(42000,784) to (42000,28,28,1)\n",
    "trainset=trainset.reshape(42000,28,28,1)\n",
    "#converting dataframes of testset into arrays using numpy\n",
    "testset=np.array(testset)\n",
    "#reshaping testset from (28000,784) to (28000,28,28,1)\n",
    "testset=testset.reshape(28000,28,28,1)\n",
    "#normalizing the training and testing sets using an inbuilt method \"normalize()\" without actually dividing by 255.0\n",
    "trainset=normalize(trainset,axis=1)\n",
    "testset=normalize(testset,axis=1)\n",
    "#print(trainlabel[0])\n",
    "\n",
    "#building the model\n",
    "model = Sequential()\n",
    "model.add(Conv2D(28, kernel_size=(3,3), input_shape=(28,28,1)))\n",
    "model.add(MaxPooling2D(pool_size=(2, 2)))\n",
    "model.add(Flatten())\n",
    "model.add(Dense(128, activation=tf.nn.relu))\n",
    "model.add(Dropout(0.2))\n",
    "model.add(Dense(10,activation=tf.nn.softmax))\n",
    "\n",
    "#compiling and fitting the model\n",
    "model.compile(optimizer='adam', loss='sparse_categorical_crossentropy', metrics=['accuracy'])\n",
    "\n",
    "model.fit(trainset,trainlabel,epochs=5)\n",
    "\n",
    "\n",
    "\n",
    "# You can write up to 20GB to the current directory (/kaggle/working/) that gets preserved as output when you create a version using \"Save & Run All\" \n",
    "# You can also write temporary files to /kaggle/temp/, but they won't be saved outside of the current session"
   ]
  },
  {
   "cell_type": "code",
   "execution_count": 2,
   "id": "original-scale",
   "metadata": {
    "execution": {
     "iopub.execute_input": "2021-04-21T17:25:01.999228Z",
     "iopub.status.busy": "2021-04-21T17:25:01.998222Z",
     "iopub.status.idle": "2021-04-21T17:25:04.893369Z",
     "shell.execute_reply": "2021-04-21T17:25:04.893890Z"
    },
    "papermill": {
     "duration": 3.247359,
     "end_time": "2021-04-21T17:25:04.894063",
     "exception": false,
     "start_time": "2021-04-21T17:25:01.646704",
     "status": "completed"
    },
    "tags": []
   },
   "outputs": [
    {
     "name": "stdout",
     "output_type": "stream",
     "text": [
      "DIGIT RECOGNIZED :\n",
      "4\n"
     ]
    },
    {
     "data": {
      "image/png": "[encoded data removed]",
      "text/plain": [
       "<Figure size 432x288 with 1 Axes>"
      ]
     },
     "metadata": {
      "needs_background": "light"
     },
     "output_type": "display_data"
    }
   ],
   "source": [
    "#testing the model with a sample testset input\n",
    "plt.imshow(testset[1234])\n",
    "predi=model.predict(testset)\n",
    "print(\"DIGIT RECOGNIZED :\",end=\"\\n\")\n",
    "print(np.argmax(predi[1234]))"
   ]
  },
  {
   "cell_type": "code",
   "execution_count": 3,
   "id": "sonic-nursery",
   "metadata": {
    "execution": {
     "iopub.execute_input": "2021-04-21T17:25:05.636534Z",
     "iopub.status.busy": "2021-04-21T17:25:05.635562Z",
     "iopub.status.idle": "2021-04-21T17:25:05.733968Z",
     "shell.execute_reply": "2021-04-21T17:25:05.732774Z"
    },
    "papermill": {
     "duration": 0.486389,
     "end_time": "2021-04-21T17:25:05.734167",
     "exception": false,
     "start_time": "2021-04-21T17:25:05.247778",
     "status": "completed"
    },
    "tags": []
   },
   "outputs": [
    {
     "name": "stdout",
     "output_type": "stream",
     "text": [
      "       ImageID  Label\n",
      "0            1      2\n",
      "1            2      0\n",
      "2            3      9\n",
      "3            4      9\n",
      "4            5      3\n",
      "...        ...    ...\n",
      "27995    27996      9\n",
      "27996    27997      7\n",
      "27997    27998      3\n",
      "27998    27999      9\n",
      "27999    28000      2\n",
      "\n",
      "[28000 rows x 2 columns]\n"
     ]
    }
   ],
   "source": [
    "#creating the dataframe for submission file\n",
    "results=predi.argmax(axis=-1)\n",
    "result_file=pd.DataFrame()\n",
    "result_file['ImageID']=list(range(1,len(testset)+1))\n",
    "result_file['Label']=results\n",
    "print(result_file)\n",
    "#converting the output file into csv\n",
    "result_file.to_csv(\"result_file.csv\",index=False)"
   ]
  },
  {
   "cell_type": "code",
   "execution_count": null,
   "id": "pharmaceutical-lease",
   "metadata": {
    "papermill": {
     "duration": 0.351634,
     "end_time": "2021-04-21T17:25:06.438480",
     "exception": false,
     "start_time": "2021-04-21T17:25:06.086846",
     "status": "completed"
    },
    "tags": []
   },
   "outputs": [],
   "source": []
  }
 ],
 "metadata": {
  "kernelspec": {
   "display_name": "Python 3",
   "language": "python",
   "name": "python3"
  },
  "language_info": {
   "codemirror_mode": {
    "name": "ipython",
    "version": 3
   },
   "file_extension": ".py",
   "mimetype": "text/x-python",
   "name": "python",
   "nbconvert_exporter": "python",
   "pygments_lexer": "ipython3",
   "version": "3.7.9"
  },
  "papermill": {
   "default_parameters": {},
   "duration": 90.141285,
   "end_time": "2021-04-21T17:25:07.801080",
   "environment_variables": {},
   "exception": null,
   "input_path": "__notebook__.ipynb",
   "output_path": "__notebook__.ipynb",
   "parameters": {},
   "start_time": "2021-04-21T17:23:37.659795",
   "version": "2.3.2"
  }
 },
 "nbformat": 4,
 "nbformat_minor": 5
}
